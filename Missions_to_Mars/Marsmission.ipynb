{
 "cells": [
  {
   "cell_type": "markdown",
   "id": "46af6f80-45e3-4d87-bb67-5954762dff19",
   "metadata": {},
   "source": [
    "NASA MARS NEWS\n"
   ]
  },
  {
   "cell_type": "code",
   "execution_count": 13,
   "id": "8d4d3b9f-2c7f-4143-baf6-2c6f178707f6",
   "metadata": {},
   "outputs": [],
   "source": [
    "from splinter import Browser\n",
    "from bs4 import BeautifulSoup\n",
    "from webdriver_manager.chrome import ChromeDriverManager\n",
    "import requests\n",
    "import pymongo\n",
    "from splinter import Browser\n"
   ]
  },
  {
   "cell_type": "code",
   "execution_count": null,
   "id": "de77309f-ea18-4c00-ba82-9deaf1ead4bd",
   "metadata": {},
   "outputs": [],
   "source": []
  },
  {
   "cell_type": "code",
   "execution_count": 2,
   "id": "81f755b7-ccef-4833-bc22-826de4c12305",
   "metadata": {},
   "outputs": [
    {
     "name": "stderr",
     "output_type": "stream",
     "text": [
      "\n",
      "\n",
      "====== WebDriver manager ======\n",
      "Current google-chrome version is 93.0.4577\n",
      "Get LATEST driver version for 93.0.4577\n",
      "There is no [win32] chromedriver for browser 93.0.4577 in cache\n",
      "Get LATEST driver version for 93.0.4577\n",
      "Trying to download new driver from https://chromedriver.storage.googleapis.com/93.0.4577.63/chromedriver_win32.zip\n",
      "Driver has been saved in cache [C:\\Users\\cokuk\\.wdm\\drivers\\chromedriver\\win32\\93.0.4577.63]\n"
     ]
    }
   ],
   "source": [
    "executable_path = {'executable_path': ChromeDriverManager().install()}\n",
    "browser = Browser('chrome', **executable_path, headless=False)"
   ]
  },
  {
   "cell_type": "code",
   "execution_count": 3,
   "id": "5323ceef-2f74-4005-b076-da7ce9fbd6d6",
   "metadata": {},
   "outputs": [],
   "source": [
    "url = 'https://redplanetscience.com/'\n",
    "browser.visit(url)"
   ]
  },
  {
   "cell_type": "code",
   "execution_count": 4,
   "id": "fa45bb84-3502-4ee8-8cce-fa60d44cf8c3",
   "metadata": {},
   "outputs": [
    {
     "name": "stdout",
     "output_type": "stream",
     "text": [
      "The latest news Title is: Air Deliveries Bring NASA's Perseverance Mars Rover Closer to Launch\n",
      "The latest news Paragraph is: A NASA Wallops Flight Facility cargo plane transported more than two tons of equipment — including the rover's sample collection tubes — to Florida for this summer's liftoff.\n"
     ]
    }
   ],
   "source": [
    "html = browser.html\n",
    "soup = BeautifulSoup(html, 'html.parser')\n",
    "title = soup.find_all('div', class_ = 'content_title')[0].text\n",
    "paragraph = soup.find_all('div', class_='article_teaser_body')[0].text\n",
    "print(f'The latest news Title is: {title}')\n",
    "print(f'The latest news Paragraph is: {paragraph}')\n"
   ]
  },
  {
   "cell_type": "code",
   "execution_count": 5,
   "id": "f88cb6e4-a25e-4134-aa09-89d4e84cd1ca",
   "metadata": {},
   "outputs": [],
   "source": [
    "base_image_url = 'https://spaceimages-mars.com'\n",
    "\n",
    "browser.visit(base_image_url)\n",
    "\n",
    "\n"
   ]
  },
  {
   "cell_type": "code",
   "execution_count": 6,
   "id": "fa472532-9f03-4309-83c7-14f1860aa98b",
   "metadata": {},
   "outputs": [],
   "source": [
    "button_click = browser.find_by_tag ('button')[1]\n",
    "button_click.click()"
   ]
  },
  {
   "cell_type": "code",
   "execution_count": 7,
   "id": "2055c209-c833-4e96-a062-85134e8a0eb5",
   "metadata": {},
   "outputs": [
    {
     "data": {
      "text/plain": [
       "[<img id=\"logo\" src=\"image/nasa.png\"/>,\n",
       " <img class=\"headerimage fade-in\" src=\"image/featured/mars1.jpg\"/>,\n",
       " <img alt=\"\" class=\"thumbimg\" src=\"image/mars/Icaria Fossae7.jpg\"/>,\n",
       " <img alt=\"\" class=\"thumbimg\" src=\"image/mars/Proctor Crater Dunes 7.jpg\"/>,\n",
       " <img alt=\"\" class=\"thumbimg\" src=\"image/mars/Icaria Fossae7.jpg\"/>,\n",
       " <img alt=\"\" class=\"thumbimg\" src=\"image/mars/Proctor Crater Dunes 7.jpg\"/>,\n",
       " <img alt=\"\" class=\"thumbimg\" src=\"image/mars/Proctor Crater Dunes 7.jpg\"/>,\n",
       " <img alt=\"\" class=\"thumbimg\" src=\"image/mars/Icaria Fossae7.jpg\"/>,\n",
       " <img alt=\"\" class=\"thumbimg\" src=\"image/mars/Icaria Fossae.jpg\"/>,\n",
       " <img alt=\"\" class=\"thumbimg\" src=\"image/mars/Ariadnes Colles4.jpg\"/>,\n",
       " <img alt=\"\" class=\"thumbimg\" src=\"image/mars/Niger Vallis.jpg\"/>,\n",
       " <img alt=\"\" class=\"thumbimg\" src=\"image/mars/Proctor Crater Dunes.jpg\"/>,\n",
       " <img alt=\"\" class=\"thumbimg\" src=\"image/mars/Niger Vallis.jpg\"/>,\n",
       " <img alt=\"\" class=\"thumbimg\" src=\"image/mars/Daedalia Planum.jpg\"/>,\n",
       " <img alt=\"\" class=\"thumbimg\" src=\"image/mars/Sirenum Fossae.jpg\"/>,\n",
       " <img alt=\"\" class=\"thumbimg\" src=\"image/mars/Ariadnes Colles4.jpg\"/>,\n",
       " <img alt=\"\" class=\"thumbimg\" src=\"image/mars/South Polar Cap.jpg\"/>,\n",
       " <img alt=\"\" class=\"thumbimg\" src=\"image/mars/Daedalia Planum.jpg\"/>,\n",
       " <img alt=\"\" class=\"thumbimg\" src=\"image/mars/Ariadnes Colles3.jpg\"/>,\n",
       " <img alt=\"\" class=\"thumbimg\" src=\"image/mars/Atlantis Chaos.jpg\"/>,\n",
       " <img alt=\"\" class=\"thumbimg\" src=\"image/mars/Daedalia Planum.jpg\"/>,\n",
       " <img alt=\"\" class=\"thumbimg\" src=\"image/mars/Icaria Fossae.jpg\"/>,\n",
       " <img alt=\"\" class=\"thumbimg\" src=\"image/mars/Niger Vallis.jpg\"/>,\n",
       " <img alt=\"\" class=\"thumbimg\" src=\"image/mars/Proctor Crater Dunes.jpg\"/>,\n",
       " <img alt=\"\" class=\"thumbimg\" src=\"image/mars/Reull Vallis.jpg\"/>,\n",
       " <img alt=\"\" class=\"thumbimg\" src=\"image/mars/Ariadnes Colles3.jpg\"/>,\n",
       " <img alt=\"\" class=\"thumbimg\" src=\"image/mars/Sirenum Fossae.jpg\"/>,\n",
       " <img alt=\"\" class=\"thumbimg\" src=\"image/mars/South Polar Cap.jpg\"/>,\n",
       " <img alt=\"\" class=\"thumbimg\" src=\"image/mars/Niger Vallis.jpg\"/>,\n",
       " <img alt=\"\" class=\"thumbimg\" src=\"image/mars/Daedalia Planum.jpg\"/>,\n",
       " <img alt=\"\" class=\"thumbimg\" src=\"image/mars/Icaria Fossae.jpg\"/>,\n",
       " <img alt=\"\" class=\"thumbimg\" src=\"image/mars/Ariadnes Colles4.jpg\"/>,\n",
       " <img alt=\"\" class=\"thumbimg\" src=\"image/mars/South Polar Cap.jpg\"/>,\n",
       " <img alt=\"\" class=\"thumbimg\" src=\"image/mars/Daedalia Planum.jpg\"/>,\n",
       " <img id=\"pic\" src=\"\"/>,\n",
       " <img alt=\"Card image cap\" class=\"card-img-top\" src=\"https://www.jpl.nasa.gov/assets/images/content/tmp/images/jpl_photojournal(3x1).jpg\"/>,\n",
       " <img alt=\"Card image cap\" class=\"card-img-top\" src=\"https://www.jpl.nasa.gov/assets/images/content/tmp/images/nasa_images(3x1).jpg\"/>,\n",
       " <img alt=\"Card image cap\" class=\"card-img-top\" src=\"https://imagecache.jpl.nasa.gov/images/640x350/C1-PIA24304---CatScanMars-16-640x350.gif\"/>,\n",
       " <img alt=\"Card image cap\" class=\"card-img-top\" src=\"https://imagecache.jpl.nasa.gov/images/640x350/PIA23491-16-640x350.jpg\"/>,\n",
       " <img alt=\"Card image cap\" class=\"card-img-top\" src=\"https://imagecache.jpl.nasa.gov/images/640x350/C1-PIA23180-16-640x350.gif\"/>,\n",
       " <img alt=\"\" class=\"fancybox-image\" src=\"image/featured/mars1.jpg\"/>]"
      ]
     },
     "execution_count": 7,
     "metadata": {},
     "output_type": "execute_result"
    }
   ],
   "source": [
    "html = browser.html\n",
    "soup = BeautifulSoup(html, 'html.parser')\n",
    "full_image_url = soup.find_all('img')\n",
    "full_image_url"
   ]
  },
  {
   "cell_type": "code",
   "execution_count": 10,
   "id": "c3061e65-65e7-4c23-828c-c987a2d50c3f",
   "metadata": {},
   "outputs": [
    {
     "data": {
      "text/plain": [
       "'https://spaceimages-mars.comimage/featured/mars1.jpg'"
      ]
     },
     "execution_count": 10,
     "metadata": {},
     "output_type": "execute_result"
    }
   ],
   "source": [
    "featured_url = soup.find('img', class_='fancybox-image')['src']\n",
    "featured_url = base_image_url + featured_url\n",
    "featured_url"
   ]
  },
  {
   "cell_type": "markdown",
   "id": "ded103dc-0451-4304-8003-6abdb055fe48",
   "metadata": {},
   "source": [
    "MARS FACTS"
   ]
  },
  {
   "cell_type": "code",
   "execution_count": 27,
   "id": "f857d88b-836d-4087-8680-7475ce03a63a",
   "metadata": {},
   "outputs": [
    {
     "data": {
      "text/html": [
       "<div>\n",
       "<style scoped>\n",
       "    .dataframe tbody tr th:only-of-type {\n",
       "        vertical-align: middle;\n",
       "    }\n",
       "\n",
       "    .dataframe tbody tr th {\n",
       "        vertical-align: top;\n",
       "    }\n",
       "\n",
       "    .dataframe thead th {\n",
       "        text-align: right;\n",
       "    }\n",
       "</style>\n",
       "<table border=\"1\" class=\"dataframe\">\n",
       "  <thead>\n",
       "    <tr style=\"text-align: right;\">\n",
       "      <th></th>\n",
       "      <th>0</th>\n",
       "      <th>1</th>\n",
       "      <th>2</th>\n",
       "    </tr>\n",
       "  </thead>\n",
       "  <tbody>\n",
       "    <tr>\n",
       "      <th>0</th>\n",
       "      <td>Mars - Earth Comparison</td>\n",
       "      <td>Mars</td>\n",
       "      <td>Earth</td>\n",
       "    </tr>\n",
       "    <tr>\n",
       "      <th>1</th>\n",
       "      <td>Diameter:</td>\n",
       "      <td>6,779 km</td>\n",
       "      <td>12,742 km</td>\n",
       "    </tr>\n",
       "    <tr>\n",
       "      <th>2</th>\n",
       "      <td>Mass:</td>\n",
       "      <td>6.39 × 10^23 kg</td>\n",
       "      <td>5.97 × 10^24 kg</td>\n",
       "    </tr>\n",
       "    <tr>\n",
       "      <th>3</th>\n",
       "      <td>Moons:</td>\n",
       "      <td>2</td>\n",
       "      <td>1</td>\n",
       "    </tr>\n",
       "    <tr>\n",
       "      <th>4</th>\n",
       "      <td>Distance from Sun:</td>\n",
       "      <td>227,943,824 km</td>\n",
       "      <td>149,598,262 km</td>\n",
       "    </tr>\n",
       "    <tr>\n",
       "      <th>5</th>\n",
       "      <td>Length of Year:</td>\n",
       "      <td>687 Earth days</td>\n",
       "      <td>365.24 days</td>\n",
       "    </tr>\n",
       "    <tr>\n",
       "      <th>6</th>\n",
       "      <td>Temperature:</td>\n",
       "      <td>-87 to -5 °C</td>\n",
       "      <td>-88 to 58°C</td>\n",
       "    </tr>\n",
       "  </tbody>\n",
       "</table>\n",
       "</div>"
      ],
      "text/plain": [
       "                         0                1                2\n",
       "0  Mars - Earth Comparison             Mars            Earth\n",
       "1                Diameter:         6,779 km        12,742 km\n",
       "2                    Mass:  6.39 × 10^23 kg  5.97 × 10^24 kg\n",
       "3                   Moons:                2                1\n",
       "4       Distance from Sun:   227,943,824 km   149,598,262 km\n",
       "5          Length of Year:   687 Earth days      365.24 days\n",
       "6             Temperature:     -87 to -5 °C      -88 to 58°C"
      ]
     },
     "execution_count": 27,
     "metadata": {},
     "output_type": "execute_result"
    }
   ],
   "source": [
    "#use Pandas to scrape\n",
    "import pandas as pd\n",
    "url = 'https://galaxyfacts-mars.com'\n",
    "tables = pd.read_html(url)\n",
    "tables[0]"
   ]
  },
  {
   "cell_type": "code",
   "execution_count": 28,
   "id": "4c854031-cc24-404e-9e88-07a2878ca39b",
   "metadata": {},
   "outputs": [
    {
     "data": {
      "text/plain": [
       "list"
      ]
     },
     "execution_count": 28,
     "metadata": {},
     "output_type": "execute_result"
    }
   ],
   "source": [
    "type(tables)"
   ]
  },
  {
   "cell_type": "code",
   "execution_count": 29,
   "id": "154a2dcd-7e69-4711-9af2-a6ca0ce17c17",
   "metadata": {},
   "outputs": [
    {
     "data": {
      "text/html": [
       "<div>\n",
       "<style scoped>\n",
       "    .dataframe tbody tr th:only-of-type {\n",
       "        vertical-align: middle;\n",
       "    }\n",
       "\n",
       "    .dataframe tbody tr th {\n",
       "        vertical-align: top;\n",
       "    }\n",
       "\n",
       "    .dataframe thead th {\n",
       "        text-align: right;\n",
       "    }\n",
       "</style>\n",
       "<table border=\"1\" class=\"dataframe\">\n",
       "  <thead>\n",
       "    <tr style=\"text-align: right;\">\n",
       "      <th></th>\n",
       "      <th>0</th>\n",
       "      <th>1</th>\n",
       "      <th>2</th>\n",
       "    </tr>\n",
       "  </thead>\n",
       "  <tbody>\n",
       "    <tr>\n",
       "      <th>0</th>\n",
       "      <td>Mars - Earth Comparison</td>\n",
       "      <td>Mars</td>\n",
       "      <td>Earth</td>\n",
       "    </tr>\n",
       "    <tr>\n",
       "      <th>1</th>\n",
       "      <td>Diameter:</td>\n",
       "      <td>6,779 km</td>\n",
       "      <td>12,742 km</td>\n",
       "    </tr>\n",
       "    <tr>\n",
       "      <th>2</th>\n",
       "      <td>Mass:</td>\n",
       "      <td>6.39 × 10^23 kg</td>\n",
       "      <td>5.97 × 10^24 kg</td>\n",
       "    </tr>\n",
       "    <tr>\n",
       "      <th>3</th>\n",
       "      <td>Moons:</td>\n",
       "      <td>2</td>\n",
       "      <td>1</td>\n",
       "    </tr>\n",
       "    <tr>\n",
       "      <th>4</th>\n",
       "      <td>Distance from Sun:</td>\n",
       "      <td>227,943,824 km</td>\n",
       "      <td>149,598,262 km</td>\n",
       "    </tr>\n",
       "  </tbody>\n",
       "</table>\n",
       "</div>"
      ],
      "text/plain": [
       "                         0                1                2\n",
       "0  Mars - Earth Comparison             Mars            Earth\n",
       "1                Diameter:         6,779 km        12,742 km\n",
       "2                    Mass:  6.39 × 10^23 kg  5.97 × 10^24 kg\n",
       "3                   Moons:                2                1\n",
       "4       Distance from Sun:   227,943,824 km   149,598,262 km"
      ]
     },
     "execution_count": 29,
     "metadata": {},
     "output_type": "execute_result"
    }
   ],
   "source": [
    "df = tables[0]\n",
    "df.head()"
   ]
  },
  {
   "cell_type": "code",
   "execution_count": 30,
   "id": "7698fbb2-5797-4d1c-abc6-1cb8ab1967bb",
   "metadata": {},
   "outputs": [
    {
     "data": {
      "text/plain": [
       "'<table border=\"1\" class=\"dataframe\">\\n  <thead>\\n    <tr style=\"text-align: right;\">\\n      <th></th>\\n      <th>0</th>\\n      <th>1</th>\\n      <th>2</th>\\n    </tr>\\n  </thead>\\n  <tbody>\\n    <tr>\\n      <th>0</th>\\n      <td>Mars - Earth Comparison</td>\\n      <td>Mars</td>\\n      <td>Earth</td>\\n    </tr>\\n    <tr>\\n      <th>1</th>\\n      <td>Diameter:</td>\\n      <td>6,779 km</td>\\n      <td>12,742 km</td>\\n    </tr>\\n    <tr>\\n      <th>2</th>\\n      <td>Mass:</td>\\n      <td>6.39 × 10^23 kg</td>\\n      <td>5.97 × 10^24 kg</td>\\n    </tr>\\n    <tr>\\n      <th>3</th>\\n      <td>Moons:</td>\\n      <td>2</td>\\n      <td>1</td>\\n    </tr>\\n    <tr>\\n      <th>4</th>\\n      <td>Distance from Sun:</td>\\n      <td>227,943,824 km</td>\\n      <td>149,598,262 km</td>\\n    </tr>\\n    <tr>\\n      <th>5</th>\\n      <td>Length of Year:</td>\\n      <td>687 Earth days</td>\\n      <td>365.24 days</td>\\n    </tr>\\n    <tr>\\n      <th>6</th>\\n      <td>Temperature:</td>\\n      <td>-87 to -5 °C</td>\\n      <td>-88 to 58°C</td>\\n    </tr>\\n  </tbody>\\n</table>'"
      ]
     },
     "execution_count": 30,
     "metadata": {},
     "output_type": "execute_result"
    }
   ],
   "source": [
    "html_table = df.to_html()\n",
    "html_table"
   ]
  },
  {
   "cell_type": "code",
   "execution_count": 31,
   "id": "01502e1f-f477-4038-b895-e184558a0ab1",
   "metadata": {},
   "outputs": [
    {
     "data": {
      "text/plain": [
       "'<table border=\"1\" class=\"dataframe\">  <thead>    <tr style=\"text-align: right;\">      <th></th>      <th>0</th>      <th>1</th>      <th>2</th>    </tr>  </thead>  <tbody>    <tr>      <th>0</th>      <td>Mars - Earth Comparison</td>      <td>Mars</td>      <td>Earth</td>    </tr>    <tr>      <th>1</th>      <td>Diameter:</td>      <td>6,779 km</td>      <td>12,742 km</td>    </tr>    <tr>      <th>2</th>      <td>Mass:</td>      <td>6.39 × 10^23 kg</td>      <td>5.97 × 10^24 kg</td>    </tr>    <tr>      <th>3</th>      <td>Moons:</td>      <td>2</td>      <td>1</td>    </tr>    <tr>      <th>4</th>      <td>Distance from Sun:</td>      <td>227,943,824 km</td>      <td>149,598,262 km</td>    </tr>    <tr>      <th>5</th>      <td>Length of Year:</td>      <td>687 Earth days</td>      <td>365.24 days</td>    </tr>    <tr>      <th>6</th>      <td>Temperature:</td>      <td>-87 to -5 °C</td>      <td>-88 to 58°C</td>    </tr>  </tbody></table>'"
      ]
     },
     "execution_count": 31,
     "metadata": {},
     "output_type": "execute_result"
    }
   ],
   "source": [
    "html_table.replace('\\n', '')"
   ]
  },
  {
   "cell_type": "code",
   "execution_count": 32,
   "id": "2c281861-19f9-4df0-af3d-73e7e29476df",
   "metadata": {},
   "outputs": [],
   "source": [
    "#saving the table to html table\n",
    "df.to_html('Mars Fact Table.html')"
   ]
  },
  {
   "cell_type": "markdown",
   "id": "56d46ae7-a263-4bde-9cea-affd691df888",
   "metadata": {},
   "source": [
    "MARS HEMISPHERE\n",
    "\n"
   ]
  },
  {
   "cell_type": "code",
   "execution_count": 33,
   "id": "66d83211-e8b7-4ca3-870e-7346422f461f",
   "metadata": {},
   "outputs": [],
   "source": [
    "url = 'https://marshemispheres.com/'\n",
    "browser.visit(url)"
   ]
  },
  {
   "cell_type": "code",
   "execution_count": 34,
   "id": "7abc0c83-ce4e-40cd-a34c-0d3af682e2da",
   "metadata": {},
   "outputs": [
    {
     "name": "stdout",
     "output_type": "stream",
     "text": [
      "<div class=\"item\">\n",
      "<a class=\"itemLink product-item\" href=\"cerberus.html\"><img alt=\"Cerberus Hemisphere Enhanced thumbnail\" class=\"thumb\" src=\"images/39d3266553462198bd2fbc4d18fbed17_cerberus_enhanced.tif_thumb.png\"/></a>\n",
      "<div class=\"description\">\n",
      "<a class=\"itemLink product-item\" href=\"cerberus.html\">\n",
      "<h3>Cerberus Hemisphere Enhanced</h3>\n",
      "</a>\n",
      "<span class=\"subtitle\" style=\"float:left\">image/tiff 21 MB</span><span class=\"pubDate\" style=\"float:right\"></span><br/>\n",
      "<p>Mosaic of the Cerberus hemisphere of Mars projected into point perspective, a view similar to that which one would see from a spacecraft. This mosaic is composed of 104 Viking Orbiter images acquired…</p>\n",
      "</div>\n",
      "<!-- end description -->\n",
      "</div>\n"
     ]
    }
   ],
   "source": [
    "html = browser.html\n",
    "soup = BeautifulSoup(html, 'html.parser')\n",
    "results = soup.find_all('div', class_='item')\n",
    "print(results[0])\n"
   ]
  },
  {
   "cell_type": "code",
   "execution_count": 39,
   "id": "3c904734-ec3d-48b3-b15c-3cd46545a127",
   "metadata": {},
   "outputs": [
    {
     "data": {
      "text/plain": [
       "[{'title': 'Cerberus Hemisphere Enhanced',\n",
       "  'img_url': 'images/39d3266553462198bd2fbc4d18fbed17_cerberus_enhanced.tif_thumb.png'},\n",
       " {'title': 'Schiaparelli Hemisphere Enhanced',\n",
       "  'img_url': 'images/08eac6e22c07fb1fe72223a79252de20_schiaparelli_enhanced.tif_thumb.png'},\n",
       " {'title': 'Syrtis Major Hemisphere Enhanced',\n",
       "  'img_url': 'images/55a0a1e2796313fdeafb17c35925e8ac_syrtis_major_enhanced.tif_thumb.png'},\n",
       " {'title': 'Valles Marineris Hemisphere Enhanced',\n",
       "  'img_url': 'images/4e59980c1c57f89c680c0e1ccabbeff1_valles_marineris_enhanced.tif_thumb.png'}]"
      ]
     },
     "execution_count": 39,
     "metadata": {},
     "output_type": "execute_result"
    }
   ],
   "source": [
    "hemisphere_image_urls = []\n",
    "for result in results:\n",
    "    title = result.find('h3').text\n",
    "    img_url = result.find('img', class_='thumb')['srcC:\\Users\\cokuk\\OneDrive\\Desktop\\web-scraping-challenge\\Missions_to_Mars\\app.py']\n",
    "    hemisphere_image_urls.append({\"title\":title, \"img_url\": img_url })\n",
    "    \n",
    "hemisphere_image_urls"
   ]
  },
  {
   "cell_type": "code",
   "execution_count": 40,
   "id": "d50ec4db-059e-4c53-9023-ef9876303ca5",
   "metadata": {},
   "outputs": [],
   "source": [
    "browser.quit()"
   ]
  },
  {
   "cell_type": "code",
   "execution_count": null,
   "id": "0af32f0d-29f4-4de2-93d3-c6805c21a3b7",
   "metadata": {},
   "outputs": [],
   "source": [
    "return "
   ]
  }
 ],
 "metadata": {
  "kernelspec": {
   "display_name": "Python 3",
   "language": "python",
   "name": "python3"
  },
  "language_info": {
   "codemirror_mode": {
    "name": "ipython",
    "version": 3
   },
   "file_extension": ".py",
   "mimetype": "text/x-python",
   "name": "python",
   "nbconvert_exporter": "python",
   "pygments_lexer": "ipython3",
   "version": "3.8.8"
  }
 },
 "nbformat": 4,
 "nbformat_minor": 5
}
